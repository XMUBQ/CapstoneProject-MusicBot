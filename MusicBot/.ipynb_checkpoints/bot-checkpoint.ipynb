{
 "cells": [
  {
   "cell_type": "code",
   "execution_count": 3,
   "metadata": {},
   "outputs": [
    {
     "name": "stdout",
     "output_type": "stream",
     "text": [
      "{\n",
      "  \"output\": {\n",
      "    \"generic\": [\n",
      "      {\n",
      "        \"response_type\": \"text\",\n",
      "        \"text\": \"Hello. Welcome to Music Bot. I can show you songs that relate to your mood. How can I help you today?\"\n",
      "      }\n",
      "    ],\n",
      "    \"intents\": [\n",
      "      {\n",
      "        \"intent\": \"Greeting\",\n",
      "        \"confidence\": 1\n",
      "      }\n",
      "    ],\n",
      "    \"entities\": []\n",
      "  }\n",
      "}\n"
     ]
    }
   ],
   "source": [
    "import json\n",
    "import ibm_watson\n",
    "\n",
    "service = ibm_watson.AssistantV2(\n",
    "     iam_apikey='_tanh4s-cY3X2aPnk57lFTQXRwJGziBE5LrRhA0u_1zY',\n",
    "    version='2019-08-20',\n",
    "    url='https://gateway.watsonplatform.net/assistant/api'\n",
    ")\n",
    "\n",
    "response = service.message(\n",
    "    assistant_id='d11ac974-e98d-4324-99e4-d3640ebd3411',\n",
    "    session_id='9c12e7b5-0e50-430b-aee1-b5c5c921e8f1',\n",
    "    input={\n",
    "        'message_type': 'text',\n",
    "        'text': 'i am sad'\n",
    "    }\n",
    ").get_result()\n",
    "\n",
    "print(json.dumps(response, indent=2))"
   ]
  },
  {
   "cell_type": "code",
   "execution_count": null,
   "metadata": {},
   "outputs": [],
   "source": []
  }
 ],
 "metadata": {
  "kernelspec": {
   "display_name": "Python 3",
   "language": "python",
   "name": "python3"
  },
  "language_info": {
   "codemirror_mode": {
    "name": "ipython",
    "version": 3
   },
   "file_extension": ".py",
   "mimetype": "text/x-python",
   "name": "python",
   "nbconvert_exporter": "python",
   "pygments_lexer": "ipython3",
   "version": "3.7.3"
  }
 },
 "nbformat": 4,
 "nbformat_minor": 2
}
