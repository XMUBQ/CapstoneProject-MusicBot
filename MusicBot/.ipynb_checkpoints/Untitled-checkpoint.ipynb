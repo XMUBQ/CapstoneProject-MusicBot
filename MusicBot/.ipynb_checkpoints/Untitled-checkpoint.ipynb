{
 "cells": [
  {
   "cell_type": "code",
   "execution_count": null,
   "metadata": {},
   "outputs": [
    {
     "name": "stdout",
     "output_type": "stream",
     "text": [
      "\n",
      "\n",
      "            User authentication requires interaction with your\n",
      "            web browser. Once you enter your credentials and\n",
      "            give authorization, you will be redirected to\n",
      "            a url.  Paste that url you were directed to to\n",
      "            complete the authorization.\n",
      "\n",
      "        \n",
      "Opened https://accounts.spotify.com/authorize?client_id=313abb4a0cbf4b1ea70b569b294272e2&response_type=code&redirect_uri=http%3A%2F%2Flocalhost&scope=user-library-read in your browser\n",
      "\n",
      "\n"
     ]
    }
   ],
   "source": [
    "import spotipy\n",
    "import spotipy.util as util\n",
    "import requests\n",
    "import pandas as pd\n",
    "import seaborn as sns\n",
    "import matplotlib.pyplot as plt\n",
    "import numpy as np\n",
    "\n",
    "from tqdm import tqdm\n",
    "from sklearn.model_selection import train_test_split \n",
    "from sklearn.linear_model import LogisticRegression\n",
    "from sklearn import metrics\n",
    "\n",
    "username = 'Peida Han'\n",
    "scope = 'user-library-read'\n",
    "util.prompt_for_user_token(username,scope,\n",
    "                          client_id='313abb4a0cbf4b1ea70b569b294272e2',\n",
    "                          client_secret='a4a260687b334ea4a91858bcae1582ee',\n",
    "                          # 注意需要在自己的web app中添加redirect url\n",
    "                          redirect_uri='http://localhost:3978')\n",
    "# token 你的token，在运行上面的代码后，会显示在http://localhost/里面\n",
    "token='你的token'\n",
    "headers = {\"Authorization\": \"Bearer {}\".format(token)}"
   ]
  },
  {
   "cell_type": "code",
   "execution_count": null,
   "metadata": {},
   "outputs": [],
   "source": []
  }
 ],
 "metadata": {
  "kernelspec": {
   "display_name": "Python 3",
   "language": "python",
   "name": "python3"
  },
  "language_info": {
   "codemirror_mode": {
    "name": "ipython",
    "version": 3
   },
   "file_extension": ".py",
   "mimetype": "text/x-python",
   "name": "python",
   "nbconvert_exporter": "python",
   "pygments_lexer": "ipython3",
   "version": "3.7.3"
  }
 },
 "nbformat": 4,
 "nbformat_minor": 2
}
